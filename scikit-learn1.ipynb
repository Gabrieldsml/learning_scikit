{
 "cells": [
  {
   "cell_type": "markdown",
   "id": "67a7c15a",
   "metadata": {},
   "source": []
  },
  {
   "cell_type": "code",
   "execution_count": 4,
   "id": "6972317b",
   "metadata": {},
   "outputs": [],
   "source": [
    "import pandas as pd\n",
    "import matplotlib.pyplot as plt\n",
    "import numpy as np\n",
    "heart_disease = pd.read_csv(\"heart-disease.csv\")"
   ]
  },
  {
   "cell_type": "code",
   "execution_count": 43,
   "id": "6d3b2e8f",
   "metadata": {},
   "outputs": [],
   "source": [
    "# Let's listify the contents\n",
    "what_were_covering = [\n",
    "    \"0. An end-to-end Scikit-Learn workflow\",\n",
    "    \"1. Getting the data ready\",\n",
    "    \"2. Choose the right estimator/algorithm for our problems\",\n",
    "    \"3. Fit the model/algorithm and use it to make predictions on our data\",\n",
    "    \"4. Evaluating a model\",\n",
    "    \"5. Improve a model\",\n",
    "    \"6. Save and load a trained model\",\n",
    "    \"7. Putting it all together!\"]"
   ]
  },
  {
   "cell_type": "code",
   "execution_count": 44,
   "id": "abd0769a",
   "metadata": {
    "scrolled": true
   },
   "outputs": [],
   "source": [
    "#heart_disease"
   ]
  },
  {
   "cell_type": "code",
   "execution_count": 45,
   "id": "306b2fc9",
   "metadata": {},
   "outputs": [],
   "source": [
    "#getting the data ready\n",
    "#x = heart_disease.drop(\"target\", axis =1)\n",
    "#y = heart_disease.target"
   ]
  },
  {
   "cell_type": "code",
   "execution_count": 46,
   "id": "8c336b74",
   "metadata": {},
   "outputs": [],
   "source": [
    "#plt.plot(x,y)"
   ]
  },
  {
   "cell_type": "code",
   "execution_count": 47,
   "id": "dd93dc29",
   "metadata": {},
   "outputs": [],
   "source": [
    "#np.array(x)"
   ]
  },
  {
   "cell_type": "code",
   "execution_count": 48,
   "id": "6757edcc",
   "metadata": {},
   "outputs": [],
   "source": [
    "#len(x)"
   ]
  },
  {
   "cell_type": "code",
   "execution_count": 49,
   "id": "2dd5dca4",
   "metadata": {},
   "outputs": [],
   "source": [
    "#x.size"
   ]
  },
  {
   "cell_type": "code",
   "execution_count": 50,
   "id": "cf1f7829",
   "metadata": {},
   "outputs": [],
   "source": [
    "# '2. Choose the right estimator/algorithm for our problems', model/hyperparameters\n",
    "# hyperparameters are like settings of a model that we can tune to get better results(or worse)\n",
    "#from sklearn.ensemble import RandomForestClassifier\n",
    "#clf = RandomForestClassifier()\n",
    "#clf.get_params()\n",
    "#RandomForestClassifier is a classification model \n",
    "#clf is a short for classifier in ml\n",
    "#classification model is capable of learning patterns in data and classify if a sample(row) is one thing or another ring"
   ]
  },
  {
   "cell_type": "code",
   "execution_count": 51,
   "id": "4ceefe0c",
   "metadata": {},
   "outputs": [],
   "source": [
    "#\"3. Fit the model/algorithm and use it to make predictions on our data\"\n",
    "\n",
    "#from sklearn.model_selection import train_test_split\n",
    "#x_train, x_test, y_train, y_test = train_test_split(x,y, test_size = 0.2)\n",
    "#split the data between training and test\n",
    "#test size = 0.2 = 20%, 80% for training"
   ]
  },
  {
   "cell_type": "code",
   "execution_count": 52,
   "id": "264fe42e",
   "metadata": {},
   "outputs": [],
   "source": [
    "#clf.fit(x_train, y_train)"
   ]
  },
  {
   "cell_type": "code",
   "execution_count": 53,
   "id": "4178ca93",
   "metadata": {},
   "outputs": [],
   "source": [
    "#y_preds = clf.predict(x_test)"
   ]
  },
  {
   "cell_type": "code",
   "execution_count": 54,
   "id": "6095006d",
   "metadata": {},
   "outputs": [],
   "source": [
    "#y_preds"
   ]
  },
  {
   "cell_type": "code",
   "execution_count": 55,
   "id": "1fa04249",
   "metadata": {},
   "outputs": [],
   "source": [
    "#y_test"
   ]
  },
  {
   "cell_type": "code",
   "execution_count": 56,
   "id": "c9d9e2e5",
   "metadata": {},
   "outputs": [],
   "source": [
    "#x_train"
   ]
  },
  {
   "cell_type": "code",
   "execution_count": 57,
   "id": "01380502",
   "metadata": {
    "scrolled": true
   },
   "outputs": [],
   "source": [
    "#x_test"
   ]
  },
  {
   "cell_type": "code",
   "execution_count": 58,
   "id": "4df1c1fd",
   "metadata": {},
   "outputs": [],
   "source": [
    "#clf.score(x_train, y_train)"
   ]
  },
  {
   "cell_type": "code",
   "execution_count": 59,
   "id": "39cb6f59",
   "metadata": {},
   "outputs": [],
   "source": [
    "#clf.score(x_test, y_test)"
   ]
  },
  {
   "cell_type": "code",
   "execution_count": 60,
   "id": "9e210a72",
   "metadata": {},
   "outputs": [],
   "source": [
    "#from sklearn.metrics import classification_report, confusion_matrix, accuracy_score\n",
    "#print(classification_report()"
   ]
  },
  {
   "cell_type": "markdown",
   "id": "eaf1685a",
   "metadata": {},
   "source": [
    "## Getting data ready to be used with machine learning"
   ]
  },
  {
   "cell_type": "code",
   "execution_count": 61,
   "id": "cb330b42",
   "metadata": {},
   "outputs": [],
   "source": [
    "# Split the data into features and labels (\"X\" and \"y\")\n",
    "# Filling (also called imputing) or disregarding missing values\n",
    "# Converting non-numerical values to numerical-values(feature encoding)\n",
    "\n",
    "#heart_disease"
   ]
  },
  {
   "cell_type": "code",
   "execution_count": 62,
   "id": "aebf31da",
   "metadata": {},
   "outputs": [],
   "source": [
    "#heart_disease.head()"
   ]
  },
  {
   "cell_type": "code",
   "execution_count": 63,
   "id": "fcbd0e99",
   "metadata": {},
   "outputs": [],
   "source": [
    "#x = heart_disease.drop(\"target\", axis = 1)"
   ]
  },
  {
   "cell_type": "code",
   "execution_count": 64,
   "id": "e323f5b4",
   "metadata": {},
   "outputs": [],
   "source": [
    "#x"
   ]
  },
  {
   "cell_type": "code",
   "execution_count": 65,
   "id": "d09ea178",
   "metadata": {},
   "outputs": [],
   "source": [
    "#car_sales = pd.read_csv(\"car-sales.csv\")"
   ]
  },
  {
   "cell_type": "code",
   "execution_count": 66,
   "id": "24719fb6",
   "metadata": {},
   "outputs": [],
   "source": [
    "#car_sales"
   ]
  },
  {
   "cell_type": "code",
   "execution_count": 67,
   "id": "3eb76180",
   "metadata": {},
   "outputs": [],
   "source": [
    "#heart_disease.head()"
   ]
  },
  {
   "cell_type": "code",
   "execution_count": 68,
   "id": "ee69045b",
   "metadata": {},
   "outputs": [],
   "source": [
    "#X = heart_disease.drop(\"target\",axis=1)\n",
    "#features"
   ]
  },
  {
   "cell_type": "code",
   "execution_count": 69,
   "id": "ab9133e0",
   "metadata": {},
   "outputs": [],
   "source": [
    "#y = heart_disease[\"target\"]\n",
    "#label"
   ]
  },
  {
   "cell_type": "code",
   "execution_count": 70,
   "id": "ec668bdc",
   "metadata": {},
   "outputs": [],
   "source": [
    "#y.head()"
   ]
  },
  {
   "cell_type": "code",
   "execution_count": 71,
   "id": "9fb97618",
   "metadata": {},
   "outputs": [],
   "source": [
    "#from sklearn.model_selection import train_test_split"
   ]
  },
  {
   "cell_type": "code",
   "execution_count": 72,
   "id": "d41ae2bd",
   "metadata": {},
   "outputs": [],
   "source": [
    "#X_train, X_test, y_train, y_test = train_test_split(X, y, test_size = 0.2)"
   ]
  },
  {
   "cell_type": "code",
   "execution_count": 73,
   "id": "455a7733",
   "metadata": {},
   "outputs": [],
   "source": [
    "#X_train.shape"
   ]
  },
  {
   "cell_type": "code",
   "execution_count": 74,
   "id": "31b3898c",
   "metadata": {},
   "outputs": [],
   "source": [
    "#X_test.shape"
   ]
  },
  {
   "cell_type": "code",
   "execution_count": 75,
   "id": "b8090b8c",
   "metadata": {},
   "outputs": [],
   "source": [
    "#y_train.shape"
   ]
  },
  {
   "cell_type": "code",
   "execution_count": 76,
   "id": "ae0202b6",
   "metadata": {},
   "outputs": [],
   "source": [
    "#y_test.shape"
   ]
  },
  {
   "cell_type": "code",
   "execution_count": 84,
   "id": "7e2e484e",
   "metadata": {},
   "outputs": [],
   "source": [
    "#make sure its all numerical\n",
    "\n",
    "car_sales = pd.read_csv(\"data/car-sales-extended.csv\")"
   ]
  },
  {
   "cell_type": "code",
   "execution_count": 85,
   "id": "091aaf90",
   "metadata": {},
   "outputs": [
    {
     "data": {
      "text/html": [
       "<div>\n",
       "<style scoped>\n",
       "    .dataframe tbody tr th:only-of-type {\n",
       "        vertical-align: middle;\n",
       "    }\n",
       "\n",
       "    .dataframe tbody tr th {\n",
       "        vertical-align: top;\n",
       "    }\n",
       "\n",
       "    .dataframe thead th {\n",
       "        text-align: right;\n",
       "    }\n",
       "</style>\n",
       "<table border=\"1\" class=\"dataframe\">\n",
       "  <thead>\n",
       "    <tr style=\"text-align: right;\">\n",
       "      <th></th>\n",
       "      <th>Make</th>\n",
       "      <th>Colour</th>\n",
       "      <th>Odometer (KM)</th>\n",
       "      <th>Doors</th>\n",
       "      <th>Price</th>\n",
       "    </tr>\n",
       "  </thead>\n",
       "  <tbody>\n",
       "    <tr>\n",
       "      <th>0</th>\n",
       "      <td>Honda</td>\n",
       "      <td>White</td>\n",
       "      <td>35431</td>\n",
       "      <td>4</td>\n",
       "      <td>15323</td>\n",
       "    </tr>\n",
       "    <tr>\n",
       "      <th>1</th>\n",
       "      <td>BMW</td>\n",
       "      <td>Blue</td>\n",
       "      <td>192714</td>\n",
       "      <td>5</td>\n",
       "      <td>19943</td>\n",
       "    </tr>\n",
       "    <tr>\n",
       "      <th>2</th>\n",
       "      <td>Honda</td>\n",
       "      <td>White</td>\n",
       "      <td>84714</td>\n",
       "      <td>4</td>\n",
       "      <td>28343</td>\n",
       "    </tr>\n",
       "    <tr>\n",
       "      <th>3</th>\n",
       "      <td>Toyota</td>\n",
       "      <td>White</td>\n",
       "      <td>154365</td>\n",
       "      <td>4</td>\n",
       "      <td>13434</td>\n",
       "    </tr>\n",
       "    <tr>\n",
       "      <th>4</th>\n",
       "      <td>Nissan</td>\n",
       "      <td>Blue</td>\n",
       "      <td>181577</td>\n",
       "      <td>3</td>\n",
       "      <td>14043</td>\n",
       "    </tr>\n",
       "  </tbody>\n",
       "</table>\n",
       "</div>"
      ],
      "text/plain": [
       "     Make Colour  Odometer (KM)  Doors  Price\n",
       "0   Honda  White          35431      4  15323\n",
       "1     BMW   Blue         192714      5  19943\n",
       "2   Honda  White          84714      4  28343\n",
       "3  Toyota  White         154365      4  13434\n",
       "4  Nissan   Blue         181577      3  14043"
      ]
     },
     "execution_count": 85,
     "metadata": {},
     "output_type": "execute_result"
    }
   ],
   "source": [
    "car_sales.head()"
   ]
  },
  {
   "cell_type": "code",
   "execution_count": 86,
   "id": "e5c223a9",
   "metadata": {},
   "outputs": [
    {
     "data": {
      "text/plain": [
       "1000"
      ]
     },
     "execution_count": 86,
     "metadata": {},
     "output_type": "execute_result"
    }
   ],
   "source": [
    "len(car_sales)"
   ]
  },
  {
   "cell_type": "code",
   "execution_count": 87,
   "id": "2862d9d2",
   "metadata": {},
   "outputs": [
    {
     "data": {
      "text/plain": [
       "array([['Honda', 'White', 35431, 4, 15323],\n",
       "       ['BMW', 'Blue', 192714, 5, 19943],\n",
       "       ['Honda', 'White', 84714, 4, 28343],\n",
       "       ...,\n",
       "       ['Nissan', 'Blue', 66604, 4, 31570],\n",
       "       ['Honda', 'White', 215883, 4, 4001],\n",
       "       ['Toyota', 'Blue', 248360, 4, 12732]], dtype=object)"
      ]
     },
     "execution_count": 87,
     "metadata": {},
     "output_type": "execute_result"
    }
   ],
   "source": [
    "np.array(car_sales)"
   ]
  },
  {
   "cell_type": "code",
   "execution_count": 7,
   "id": "90a6dbf2",
   "metadata": {
    "scrolled": true
   },
   "outputs": [
    {
     "ename": "SyntaxError",
     "evalue": "invalid syntax (1583294263.py, line 4)",
     "output_type": "error",
     "traceback": [
      "\u001b[1;36m  Cell \u001b[1;32mIn[7], line 4\u001b[1;36m\u001b[0m\n\u001b[1;33m    from sklearn.impute import\u001b[0m\n\u001b[1;37m                               ^\u001b[0m\n\u001b[1;31mSyntaxError\u001b[0m\u001b[1;31m:\u001b[0m invalid syntax\n"
     ]
    }
   ],
   "source": [
    "from sklearn.model_selection import train_test_split\n",
    "from sklearn.preprocessing import OneHotEncoder\n",
    "from sklearn.compose import ColumnTransformer\n",
    "np.random.seed(42)\n",
    "\n",
    "car_sales_missing = pd.read_csv(\"data/car-sales-extended-missing-data.csv\")\n",
    "\n",
    "car_sales_missing[\"Make\"].fillna(\"missing\", inplace = True)\n",
    "car_sales_missing[\"Colour\"].fillna(\"missing\", inplace = True)\n",
    "car_sales_missing[\"Odometer (KM)\"].fillna(car_sales_missing[\"Odometer (KM)\"].mean(), inplace = True)\n",
    "car_sales_missing[\"Doors\"].fillna(car_sales_missing[\"Doors\"].mode()[0], inplace = True)\n",
    "car_sales_missing.dropna(inplace = True)\n",
    "dummies = pd.get_dummies(car_sales_missing[[\"Make\", \"Colour\", \"Doors\"]])\n",
    "\n",
    "X = car_sales_missing.drop(\"Price\", axis = 1)\n",
    "y = car_sales_missing[\"Price\"]\n",
    "categorical_features =  [\"Make\", \"Colour\", \"Doors\"]\n",
    "one_hot = OneHotEncoder()\n",
    "newx = pd.get_dummies(car_sales_missing[[\"Make\", \"Colour\", \"Doors\", \"Odometer (KM)\"]])\n",
    "transformer = ColumnTransformer([(\"one_hot\", one_hot, categorical_features)], remainder = \"passthrough\")\n",
    "transformed_X = transformer.fit_transform(X)\n",
    "    \n",
    "\n",
    "model = RandomForestRegressor()\n",
    "model.get_params()\n",
    "X_train, X_test, y_train, y_test = train_test_split(newx, y, test_size = 0.2)\n",
    "model.fit(X_train, y_train)\n",
    "model.score(X_test, y_test)"
   ]
  },
  {
   "cell_type": "code",
   "execution_count": 8,
   "id": "7d88c741",
   "metadata": {},
   "outputs": [
    {
     "data": {
      "text/plain": [
       "<950x15 sparse matrix of type '<class 'numpy.float64'>'\n",
       "\twith 3800 stored elements in Compressed Sparse Row format>"
      ]
     },
     "execution_count": 8,
     "metadata": {},
     "output_type": "execute_result"
    }
   ],
   "source": [
    "transformed_X"
   ]
  },
  {
   "cell_type": "code",
   "execution_count": null,
   "id": "779da8f4",
   "metadata": {},
   "outputs": [],
   "source": []
  }
 ],
 "metadata": {
  "kernelspec": {
   "display_name": "Python 3 (ipykernel)",
   "language": "python",
   "name": "python3"
  },
  "language_info": {
   "codemirror_mode": {
    "name": "ipython",
    "version": 3
   },
   "file_extension": ".py",
   "mimetype": "text/x-python",
   "name": "python",
   "nbconvert_exporter": "python",
   "pygments_lexer": "ipython3",
   "version": "3.10.9"
  }
 },
 "nbformat": 4,
 "nbformat_minor": 5
}
