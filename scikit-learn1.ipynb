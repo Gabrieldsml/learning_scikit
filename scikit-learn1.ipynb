{
 "cells": [
  {
   "cell_type": "markdown",
   "id": "67a7c15a",
   "metadata": {},
   "source": []
  },
  
  {
   "cell_type": "code",
   "execution_count": 83,
   "id": "6d3b2e8f",
   "metadata": {},
   "outputs": [],
   "source": [
   
   ]
  },
  {
   "cell_type": "code",
   "execution_count": 84,
   "id": "abd0769a",
   "metadata": {
    "scrolled": true
   },
   "outputs": [],
   "source": [
    "#heart_disease"
   ]
  },
  {
   "cell_type": "code",
   "execution_count": 85,
   "id": "306b2fc9",
   "metadata": {},
   "outputs": [],
   "source": [
    "#getting the data ready\n",
    "#x = heart_disease.drop(\"target\", axis =1)\n",
    "#y = heart_disease.target"
   ]
  },
  {
   "cell_type": "code",
   "execution_count": 86,
   "id": "8c336b74",
   "metadata": {},
   "outputs": [],
   "source": [
    "#plt.plot(x,y)"
   ]
  },
  {
   "cell_type": "code",
   "execution_count": 87,
   "id": "dd93dc29",
   "metadata": {},
   "outputs": [],
   "source": [
    "#np.array(x)"
   ]
  },
  {
   "cell_type": "code",
   "execution_count": 88,
   "id": "6757edcc",
   "metadata": {},
   "outputs": [],
   "source": [
    "#len(x)"
   ]
  },
  {
   "cell_type": "code",
   "execution_count": 89,
   "id": "2dd5dca4",
   "metadata": {},
   "outputs": [],
   "source": [
    "#x.size"
   ]
  },
  {
   "cell_type": "code",
   "execution_count": 90,
   "id": "cf1f7829",
   "metadata": {},
   "outputs": [],
   "source": [
    "# '2. Choose the right estimator/algorithm for our problems', model/hyperparameters\n",
    "# hyperparameters are like settings of a model that we can tune to get better results(or worse)\n",
    "#from sklearn.ensemble import RandomForestClassifier\n",
    "#clf = RandomForestClassifier()\n",
    "#clf.get_params()\n",
    "#RandomForestClassifier is a classification model \n",
    "#clf is a short for classifier in ml\n",
    "#classification model is capable of learning patterns in data and classify if a sample(row) is one thing or another ring"
   ]
  },
  {
   "cell_type": "code",
   "execution_count": 91,
   "id": "4ceefe0c",
   "metadata": {},
   "outputs": [],
   "source": [
    "#\"3. Fit the model/algorithm and use it to make predictions on our data\"\n",
    "\n",
    "#from sklearn.model_selection import train_test_split\n",
    "#x_train, x_test, y_train, y_test = train_test_split(x,y, test_size = 0.2)\n",
    "#split the data between training and test\n",
    "#test size = 0.2 = 20%, 80% for training"
   ]
  },
  {
   "cell_type": "code",
   "execution_count": 92,
   "id": "264fe42e",
   "metadata": {},
   "outputs": [],
   "source": [
    "#clf.fit(x_train, y_train)"
   ]
  },
  {
   "cell_type": "code",
   "execution_count": 93,
   "id": "4178ca93",
   "metadata": {},
   "outputs": [],
   "source": [
    "#y_preds = clf.predict(x_test)"
   ]
  },
  {
   "cell_type": "code",
   "execution_count": 94,
   "id": "6095006d",
   "metadata": {},
   "outputs": [],
   "source": [
    "#y_preds"
   ]
  },
  {
   "cell_type": "code",
   "execution_count": 95,
   "id": "1fa04249",
   "metadata": {},
   "outputs": [],
   "source": [
    "#y_test"
   ]
  },
  {
   "cell_type": "code",
   "execution_count": 96,
   "id": "c9d9e2e5",
   "metadata": {},
   "outputs": [],
   "source": [
    "#x_train"
   ]
  },
  {
   "cell_type": "code",
   "execution_count": 97,
   "id": "01380502",
   "metadata": {
    "scrolled": true
   },
   "outputs": [],
   "source": [
    "#x_test"
   ]
  },
  {
   "cell_type": "code",
   "execution_count": 98,
   "id": "4df1c1fd",
   "metadata": {},
   "outputs": [],
   "source": [
    "#clf.score(x_train, y_train)"
   ]
  },
  {
   "cell_type": "code",
   "execution_count": 99,
   "id": "39cb6f59",
   "metadata": {},
   "outputs": [],
   "source": [
    "#clf.score(x_test, y_test)"
   ]
  },
  {
   "cell_type": "code",
   "execution_count": 100,
   "id": "9e210a72",
   "metadata": {},
   "outputs": [],
   "source": [
    "#from sklearn.metrics import classification_report, confusion_matrix, accuracy_score\n",
    "#print(classification_report()"
   ]
  },
  {
   "cell_type": "markdown",
   "id": "eaf1685a",
   "metadata": {},
   "source": [
    "## Getting data ready to be used with machine learning"
   ]
  },
  {
   "cell_type": "code",
   "execution_count": 101,
   "id": "cb330b42",
   "metadata": {},
   "outputs": [],
   "source": [
    "# Split the data into features and labels (\"X\" and \"y\")\n",
    "# Filling (also called imputing) or disregarding missing values\n",
    "# Converting non-numerical values to numerical-values(feature encoding)\n",
    "\n",
    "#heart_disease"
   ]
  },
  {
   "cell_type": "code",
   "execution_count": 102,
   "id": "aebf31da",
   "metadata": {},
   "outputs": [],
   "source": [
    "#heart_disease.head()"
   ]
  },
  {
   "cell_type": "code",
   "execution_count": 103,
   "id": "fcbd0e99",
   "metadata": {},
   "outputs": [],
   "source": [
    "#x = heart_disease.drop(\"target\", axis = 1)"
   ]
  },
  {
   "cell_type": "code",
   "execution_count": 104,
   "id": "e323f5b4",
   "metadata": {},
   "outputs": [],
   "source": [
    "#x"
   ]
  },
  {
   "cell_type": "code",
   "execution_count": 105,
   "id": "d09ea178",
   "metadata": {},
   "outputs": [],
   "source": [
    "#car_sales = pd.read_csv(\"car-sales.csv\")"
   ]
  },
  {
   "cell_type": "code",
   "execution_count": 106,
   "id": "24719fb6",
   "metadata": {},
   "outputs": [],
   "source": [
    "#car_sales"
   ]
  },
  {
   "cell_type": "code",
   "execution_count": 107,
   "id": "3eb76180",
   "metadata": {},
   "outputs": [],
   "source": [
    "#heart_disease.head()"
   ]
  },
  {
   "cell_type": "code",
   "execution_count": 108,
   "id": "ee69045b",
   "metadata": {},
   "outputs": [],
   "source": [
    "#X = heart_disease.drop(\"target\",axis=1)\n",
    "#features"
   ]
  },
  {
   "cell_type": "code",
   "execution_count": 109,
   "id": "ab9133e0",
   "metadata": {},
   "outputs": [],
   "source": [
    "#y = heart_disease[\"target\"]\n",
    "#label"
   ]
  },
  {
   "cell_type": "code",
   "execution_count": 110,
   "id": "ec668bdc",
   "metadata": {},
   "outputs": [],
   "source": [
    "#y.head()"
   ]
  },
  {
   "cell_type": "code",
   "execution_count": 111,
   "id": "9fb97618",
   "metadata": {},
   "outputs": [],
   "source": [
    "#from sklearn.model_selection import train_test_split"
   ]
  },
  {
   "cell_type": "code",
   "execution_count": 112,
   "id": "d41ae2bd",
   "metadata": {},
   "outputs": [],
   "source": [
    "#X_train, X_test, y_train, y_test = train_test_split(X, y, test_size = 0.2)"
   ]
  },
  {
   "cell_type": "code",
   "execution_count": 113,
   "id": "455a7733",
   "metadata": {},
   "outputs": [],
   "source": [
    "#X_train.shape"
   ]
  },
  {
   "cell_type": "code",
   "execution_count": 114,
   "id": "31b3898c",
   "metadata": {},
   "outputs": [],
   "source": [
    "#X_test.shape"
   ]
  },
  {
   "cell_type": "code",
   "execution_count": 115,
   "id": "b8090b8c",
   "metadata": {},
   "outputs": [],
   "source": [
    "#y_train.shape"
   ]
  },
  {
   "cell_type": "code",
   "execution_count": 116,
   "id": "ae0202b6",
   "metadata": {},
   "outputs": [],
   "source": [
    "#y_test.shape"
   ]
  },
  {
   "cell_type": "code",
   "execution_count": 117,
   "id": "7e2e484e",
   "metadata": {},
   "outputs": [],
   "source": [
    "#make sure its all numerical\n",
    "\n",
    "car_sales = pd.read_csv(\"data/car-sales-extended.csv\")"
   ]
  },
  {
   "cell_type": "code",
   "execution_count": 118,
   "id": "091aaf90",
   "metadata": {},
   "outputs": [
    {
     "data": {
      "text/html": [
       "<div>\n",
       "<style scoped>\n",
       "    .dataframe tbody tr th:only-of-type {\n",
       "        vertical-align: middle;\n",
       "    }\n",
       "\n",
       "    .dataframe tbody tr th {\n",
       "        vertical-align: top;\n",
       "    }\n",
       "\n",
       "    .dataframe thead th {\n",
       "        text-align: right;\n",
       "    }\n",
       "</style>\n",
       "<table border=\"1\" class=\"dataframe\">\n",
       "  <thead>\n",
       "    <tr style=\"text-align: right;\">\n",
       "      <th></th>\n",
       "      <th>Make</th>\n",
       "      <th>Colour</th>\n",
       "      <th>Odometer (KM)</th>\n",
       "      <th>Doors</th>\n",
       "      <th>Price</th>\n",
       "    </tr>\n",
       "  </thead>\n",
       "  <tbody>\n",
       "    <tr>\n",
       "      <th>0</th>\n",
       "      <td>Honda</td>\n",
       "      <td>White</td>\n",
       "      <td>35431</td>\n",
       "      <td>4</td>\n",
       "      <td>15323</td>\n",
       "    </tr>\n",
       "    <tr>\n",
       "      <th>1</th>\n",
       "      <td>BMW</td>\n",
       "      <td>Blue</td>\n",
       "      <td>192714</td>\n",
       "      <td>5</td>\n",
       "      <td>19943</td>\n",
       "    </tr>\n",
       "    <tr>\n",
       "      <th>2</th>\n",
       "      <td>Honda</td>\n",
       "      <td>White</td>\n",
       "      <td>84714</td>\n",
       "      <td>4</td>\n",
       "      <td>28343</td>\n",
       "    </tr>\n",
       "    <tr>\n",
       "      <th>3</th>\n",
       "      <td>Toyota</td>\n",
       "      <td>White</td>\n",
       "      <td>154365</td>\n",
       "      <td>4</td>\n",
       "      <td>13434</td>\n",
       "    </tr>\n",
       "    <tr>\n",
       "      <th>4</th>\n",
       "      <td>Nissan</td>\n",
       "      <td>Blue</td>\n",
       "      <td>181577</td>\n",
       "      <td>3</td>\n",
       "      <td>14043</td>\n",
       "    </tr>\n",
       "  </tbody>\n",
       "</table>\n",
       "</div>"
      ],
      "text/plain": [
       "     Make Colour  Odometer (KM)  Doors  Price\n",
       "0   Honda  White          35431      4  15323\n",
       "1     BMW   Blue         192714      5  19943\n",
       "2   Honda  White          84714      4  28343\n",
       "3  Toyota  White         154365      4  13434\n",
       "4  Nissan   Blue         181577      3  14043"
      ]
     },
     "execution_count": 118,
     "metadata": {},
     "output_type": "execute_result"
    }
   ],
   "source": [
    "car_sales.head()"
   ]
  },
  {
   "cell_type": "code",
   "execution_count": 119,
   "id": "e5c223a9",
   "metadata": {},
   "outputs": [
    {
     "data": {
      "text/plain": [
       "1000"
      ]
     },
     "execution_count": 119,
     "metadata": {},
     "output_type": "execute_result"
    }
   ],
   "source": [
    "len(car_sales)"
   ]
  },
  {
   "cell_type": "code",
   "execution_count": 120,
   "id": "2862d9d2",
   "metadata": {},
   "outputs": [
    {
     "data": {
      "text/plain": [
       "array([['Honda', 'White', 35431, 4, 15323],\n",
       "       ['BMW', 'Blue', 192714, 5, 19943],\n",
       "       ['Honda', 'White', 84714, 4, 28343],\n",
       "       ...,\n",
       "       ['Nissan', 'Blue', 66604, 4, 31570],\n",
       "       ['Honda', 'White', 215883, 4, 4001],\n",
       "       ['Toyota', 'Blue', 248360, 4, 12732]], dtype=object)"
      ]
     },
     "execution_count": 120,
     "metadata": {},
     "output_type": "execute_result"
    }
   ],
   "source": [
    "np.array(car_sales)"
   ]
  },
  {
   "cell_type": "code",
   "execution_count": 121,
   "id": "90a6dbf2",
   "metadata": {
    "scrolled": true
   },
   "outputs": [
    {
     "data": {
      "text/plain": [
       "0.22094092417931943"
      ]
     },
     "execution_count": 121,
     "metadata": {},
     "output_type": "execute_result"
    }
   ],
   "source": [
    "from sklearn.model_selection import train_test_split\n",
    "from sklearn.preprocessing import OneHotEncoder\n",
    "from sklearn.compose import ColumnTransformer\n",
    "from sklearn.ensemble import RandomForestRegressor\n",
    "np.random.seed(42)\n",
    "\n",
    "car_sales_missing = pd.read_csv(\"data/car-sales-extended-missing-data.csv\")\n",
    "\n",
    "car_sales_missing[\"Make\"].fillna(\"missing\", inplace = True)\n",
    "car_sales_missing[\"Colour\"].fillna(\"missing\", inplace = True)\n",
    "car_sales_missing[\"Odometer (KM)\"].fillna(car_sales_missing[\"Odometer (KM)\"].mean(), inplace = True)\n",
    "car_sales_missing[\"Doors\"].fillna(car_sales_missing[\"Doors\"].mode()[0], inplace = True)\n",
    "car_sales_missing.dropna(inplace = True)\n",
    "dummies = pd.get_dummies(car_sales_missing[[\"Make\", \"Colour\", \"Doors\"]])\n",
    "\n",
    "X = car_sales_missing.drop(\"Price\", axis = 1)\n",
    "y = car_sales_missing[\"Price\"]\n",
    "categorical_features =  [\"Make\", \"Colour\", \"Doors\"]\n",
    "one_hot = OneHotEncoder()\n",
    "newx = pd.get_dummies(car_sales_missing[[\"Make\", \"Colour\", \"Doors\", \"Odometer (KM)\"]])\n",
    "transformer = ColumnTransformer([(\"one_hot\", one_hot, categorical_features)], remainder = \"passthrough\")\n",
    "transformed_X = transformer.fit_transform(X)\n",
    "    \n",
    "\n",
    "model = RandomForestRegressor()\n",
    "model.get_params()\n",
    "X_train, X_test, y_train, y_test = train_test_split(newx, y, test_size = 0.2)\n",
    "model.fit(X_train, y_train)\n",
    "model.score(X_test, y_test)"
   ]
  },
  {
   "cell_type": "code",
   "execution_count": 122,
   "id": "7d88c741",
   "metadata": {},
   "outputs": [
    {
     "data": {
      "text/plain": [
       "<950x15 sparse matrix of type '<class 'numpy.float64'>'\n",
       "\twith 3800 stored elements in Compressed Sparse Row format>"
      ]
     },
     "execution_count": 122,
     "metadata": {},
     "output_type": "execute_result"
    }
   ],
   "source": [
    "transformed_X"
   ]
  },
  {
   "cell_type": "code",
   "execution_count": 123,
   "id": "779da8f4",
   "metadata": {},
   "outputs": [
    {
     "data": {
      "text/html": [
       "<div>\n",
       "<style scoped>\n",
       "    .dataframe tbody tr th:only-of-type {\n",
       "        vertical-align: middle;\n",
       "    }\n",
       "\n",
       "    .dataframe tbody tr th {\n",
       "        vertical-align: top;\n",
       "    }\n",
       "\n",
       "    .dataframe thead th {\n",
       "        text-align: right;\n",
       "    }\n",
       "</style>\n",
       "<table border=\"1\" class=\"dataframe\">\n",
       "  <thead>\n",
       "    <tr style=\"text-align: right;\">\n",
       "      <th></th>\n",
       "      <th>Doors</th>\n",
       "      <th>Odometer (KM)</th>\n",
       "      <th>Make_BMW</th>\n",
       "      <th>Make_Honda</th>\n",
       "      <th>Make_Nissan</th>\n",
       "      <th>Make_Toyota</th>\n",
       "      <th>Make_missing</th>\n",
       "      <th>Colour_Black</th>\n",
       "      <th>Colour_Blue</th>\n",
       "      <th>Colour_Green</th>\n",
       "      <th>Colour_Red</th>\n",
       "      <th>Colour_White</th>\n",
       "      <th>Colour_missing</th>\n",
       "    </tr>\n",
       "  </thead>\n",
       "  <tbody>\n",
       "    <tr>\n",
       "      <th>0</th>\n",
       "      <td>4.0</td>\n",
       "      <td>35431.0</td>\n",
       "      <td>0</td>\n",
       "      <td>1</td>\n",
       "      <td>0</td>\n",
       "      <td>0</td>\n",
       "      <td>0</td>\n",
       "      <td>0</td>\n",
       "      <td>0</td>\n",
       "      <td>0</td>\n",
       "      <td>0</td>\n",
       "      <td>1</td>\n",
       "      <td>0</td>\n",
       "    </tr>\n",
       "    <tr>\n",
       "      <th>1</th>\n",
       "      <td>5.0</td>\n",
       "      <td>192714.0</td>\n",
       "      <td>1</td>\n",
       "      <td>0</td>\n",
       "      <td>0</td>\n",
       "      <td>0</td>\n",
       "      <td>0</td>\n",
       "      <td>0</td>\n",
       "      <td>1</td>\n",
       "      <td>0</td>\n",
       "      <td>0</td>\n",
       "      <td>0</td>\n",
       "      <td>0</td>\n",
       "    </tr>\n",
       "    <tr>\n",
       "      <th>2</th>\n",
       "      <td>4.0</td>\n",
       "      <td>84714.0</td>\n",
       "      <td>0</td>\n",
       "      <td>1</td>\n",
       "      <td>0</td>\n",
       "      <td>0</td>\n",
       "      <td>0</td>\n",
       "      <td>0</td>\n",
       "      <td>0</td>\n",
       "      <td>0</td>\n",
       "      <td>0</td>\n",
       "      <td>1</td>\n",
       "      <td>0</td>\n",
       "    </tr>\n",
       "    <tr>\n",
       "      <th>3</th>\n",
       "      <td>4.0</td>\n",
       "      <td>154365.0</td>\n",
       "      <td>0</td>\n",
       "      <td>0</td>\n",
       "      <td>0</td>\n",
       "      <td>1</td>\n",
       "      <td>0</td>\n",
       "      <td>0</td>\n",
       "      <td>0</td>\n",
       "      <td>0</td>\n",
       "      <td>0</td>\n",
       "      <td>1</td>\n",
       "      <td>0</td>\n",
       "    </tr>\n",
       "    <tr>\n",
       "      <th>4</th>\n",
       "      <td>3.0</td>\n",
       "      <td>181577.0</td>\n",
       "      <td>0</td>\n",
       "      <td>0</td>\n",
       "      <td>1</td>\n",
       "      <td>0</td>\n",
       "      <td>0</td>\n",
       "      <td>0</td>\n",
       "      <td>1</td>\n",
       "      <td>0</td>\n",
       "      <td>0</td>\n",
       "      <td>0</td>\n",
       "      <td>0</td>\n",
       "    </tr>\n",
       "    <tr>\n",
       "      <th>...</th>\n",
       "      <td>...</td>\n",
       "      <td>...</td>\n",
       "      <td>...</td>\n",
       "      <td>...</td>\n",
       "      <td>...</td>\n",
       "      <td>...</td>\n",
       "      <td>...</td>\n",
       "      <td>...</td>\n",
       "      <td>...</td>\n",
       "      <td>...</td>\n",
       "      <td>...</td>\n",
       "      <td>...</td>\n",
       "      <td>...</td>\n",
       "    </tr>\n",
       "    <tr>\n",
       "      <th>995</th>\n",
       "      <td>4.0</td>\n",
       "      <td>35820.0</td>\n",
       "      <td>0</td>\n",
       "      <td>0</td>\n",
       "      <td>0</td>\n",
       "      <td>1</td>\n",
       "      <td>0</td>\n",
       "      <td>1</td>\n",
       "      <td>0</td>\n",
       "      <td>0</td>\n",
       "      <td>0</td>\n",
       "      <td>0</td>\n",
       "      <td>0</td>\n",
       "    </tr>\n",
       "    <tr>\n",
       "      <th>996</th>\n",
       "      <td>3.0</td>\n",
       "      <td>155144.0</td>\n",
       "      <td>0</td>\n",
       "      <td>0</td>\n",
       "      <td>0</td>\n",
       "      <td>0</td>\n",
       "      <td>1</td>\n",
       "      <td>0</td>\n",
       "      <td>0</td>\n",
       "      <td>0</td>\n",
       "      <td>0</td>\n",
       "      <td>1</td>\n",
       "      <td>0</td>\n",
       "    </tr>\n",
       "    <tr>\n",
       "      <th>997</th>\n",
       "      <td>4.0</td>\n",
       "      <td>66604.0</td>\n",
       "      <td>0</td>\n",
       "      <td>0</td>\n",
       "      <td>1</td>\n",
       "      <td>0</td>\n",
       "      <td>0</td>\n",
       "      <td>0</td>\n",
       "      <td>1</td>\n",
       "      <td>0</td>\n",
       "      <td>0</td>\n",
       "      <td>0</td>\n",
       "      <td>0</td>\n",
       "    </tr>\n",
       "    <tr>\n",
       "      <th>998</th>\n",
       "      <td>4.0</td>\n",
       "      <td>215883.0</td>\n",
       "      <td>0</td>\n",
       "      <td>1</td>\n",
       "      <td>0</td>\n",
       "      <td>0</td>\n",
       "      <td>0</td>\n",
       "      <td>0</td>\n",
       "      <td>0</td>\n",
       "      <td>0</td>\n",
       "      <td>0</td>\n",
       "      <td>1</td>\n",
       "      <td>0</td>\n",
       "    </tr>\n",
       "    <tr>\n",
       "      <th>999</th>\n",
       "      <td>4.0</td>\n",
       "      <td>248360.0</td>\n",
       "      <td>0</td>\n",
       "      <td>0</td>\n",
       "      <td>0</td>\n",
       "      <td>1</td>\n",
       "      <td>0</td>\n",
       "      <td>0</td>\n",
       "      <td>1</td>\n",
       "      <td>0</td>\n",
       "      <td>0</td>\n",
       "      <td>0</td>\n",
       "      <td>0</td>\n",
       "    </tr>\n",
       "  </tbody>\n",
       "</table>\n",
       "<p>950 rows × 13 columns</p>\n",
       "</div>"
      ],
      "text/plain": [
       "     Doors  Odometer (KM)  Make_BMW  Make_Honda  Make_Nissan  Make_Toyota  \\\n",
       "0      4.0        35431.0         0           1            0            0   \n",
       "1      5.0       192714.0         1           0            0            0   \n",
       "2      4.0        84714.0         0           1            0            0   \n",
       "3      4.0       154365.0         0           0            0            1   \n",
       "4      3.0       181577.0         0           0            1            0   \n",
       "..     ...            ...       ...         ...          ...          ...   \n",
       "995    4.0        35820.0         0           0            0            1   \n",
       "996    3.0       155144.0         0           0            0            0   \n",
       "997    4.0        66604.0         0           0            1            0   \n",
       "998    4.0       215883.0         0           1            0            0   \n",
       "999    4.0       248360.0         0           0            0            1   \n",
       "\n",
       "     Make_missing  Colour_Black  Colour_Blue  Colour_Green  Colour_Red  \\\n",
       "0               0             0            0             0           0   \n",
       "1               0             0            1             0           0   \n",
       "2               0             0            0             0           0   \n",
       "3               0             0            0             0           0   \n",
       "4               0             0            1             0           0   \n",
       "..            ...           ...          ...           ...         ...   \n",
       "995             0             1            0             0           0   \n",
       "996             1             0            0             0           0   \n",
       "997             0             0            1             0           0   \n",
       "998             0             0            0             0           0   \n",
       "999             0             0            1             0           0   \n",
       "\n",
       "     Colour_White  Colour_missing  \n",
       "0               1               0  \n",
       "1               0               0  \n",
       "2               1               0  \n",
       "3               1               0  \n",
       "4               0               0  \n",
       "..            ...             ...  \n",
       "995             0               0  \n",
       "996             1               0  \n",
       "997             0               0  \n",
       "998             1               0  \n",
       "999             0               0  \n",
       "\n",
       "[950 rows x 13 columns]"
      ]
     },
     "execution_count": 123,
     "metadata": {},
     "output_type": "execute_result"
    }
   ],
   "source": [
    "newx"
   ]
  }
 ],
 "metadata": {
  "kernelspec": {
   "display_name": "Python 3 (ipykernel)",
   "language": "python",
   "name": "python3"
  },
  "language_info": {
   "codemirror_mode": {
    "name": "ipython",
    "version": 3
   },
   "file_extension": ".py",
   "mimetype": "text/x-python",
   "name": "python",
   "nbconvert_exporter": "python",
   "pygments_lexer": "ipython3",
   "version": "3.10.9"
  }
 },
 "nbformat": 4,
 "nbformat_minor": 5
}
